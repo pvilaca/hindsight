{
 "cells": [
  {
   "cell_type": "code",
   "execution_count": null,
   "metadata": {
    "collapsed": false
   },
   "outputs": [],
   "source": [
    "# autoreload\n",
    "%load_ext autoreload\n",
    "%autoreload 2"
   ]
  },
  {
   "cell_type": "code",
   "execution_count": null,
   "metadata": {
    "collapsed": false
   },
   "outputs": [],
   "source": [
    "import mpl_recipes\n",
    "%mpl_setup"
   ]
  },
  {
   "cell_type": "code",
   "execution_count": null,
   "metadata": {
    "collapsed": true
   },
   "outputs": [],
   "source": [
    "import pandas as pd\n",
    "idx = pd.IndexSlice\n",
    "import numpy as np\n",
    "import scipy as sp\n",
    "import seaborn as sns\n",
    "from collections import namedtuple, defaultdict\n",
    "from itertools import izip, izip_longest, chain, tee\n",
    "from pprint import pprint\n",
    "from copy import copy\n",
    "import os\n",
    "import json\n",
    "import itertools\n",
    "import re\n",
    "import random\n",
    "import math\n",
    "import cPickle as pickle\n",
    "from matplotlib_venn import venn2, venn3"
   ]
  },
  {
   "cell_type": "code",
   "execution_count": null,
   "metadata": {
    "collapsed": false
   },
   "outputs": [],
   "source": [
    "from scipy.stats import lognorm, spearmanr, norm\n",
    "from scipy.cluster.hierarchy import dendrogram, linkage\n",
    "from scipy.spatial.distance import pdist\n",
    "import matplotlib as mpl\n",
    "from matplotlib.mlab import PCA\n",
    "from matplotlib.pylab import cm\n",
    "from mpl_toolkits.mplot3d import Axes3D\n",
    "from sklearn.cluster import KMeans, AgglomerativeClustering, DBSCAN\n",
    "from IPython.display import HTML, Image"
   ]
  },
  {
   "cell_type": "code",
   "execution_count": null,
   "metadata": {
    "collapsed": false
   },
   "outputs": [],
   "source": [
    "from hindsight.pathways import get_designs, add_all_heterologous_pathways\n",
    "from hindsight import (\n",
    "    normalize_by_carbons, download_or_load_model_me_placeholder,\n",
    "    find_summary_lethal_reactions, find_lethal_reactions,\n",
    ")\n",
    "from hindsight.bibtex import split_on_comma_or_space\n",
    "from hindsight.variables import min_biomass\n",
    "from hindsight.plots import (\n",
    "    calculate_model_growth_coupled, plot_model_growth_coupled,\n",
    "    calculate_model_growth_coupled_gradient, plot_model_growth_coupled_gradient,\n",
    "    plot_model_growth_coupled_gradient_colorbar,\n",
    "    calculate_model_growth_coupled_categories, plot_model_growth_coupled_categories,\n",
    "    rename_models,\n",
    ")\n",
    "#                                        calculate_heat_map, find_summary_lethal_reactions, \n",
    "#                                         find_lethal_reactions, \n",
    "#                                         \n",
    "#                                         \n",
    "#                                         plot_model_growth_coupled_gradient_colorbar)\n",
    "# from me_scripts.hindsight.statistics import (by_carbon, run_and_plot_svd, print_top_pc, \n",
    "#                                              plot_principle_components, generate_angles, \n",
    "#                                              filter_out_unsampled, run_anova, \n",
    "#                                              plot_significant_keffs, plot_significant_shared,\n",
    "#                                              plot_norm, kcats_for_reaction_list, get_id,\n",
    "#                                              io_dataframe_for_dir)\n",
    "# from me_scripts.hindsight.ec_numbers import get_ec_numbers\n",
    "from mpl_recipes.utils import add_to_brewer_cmap"
   ]
  },
  {
   "cell_type": "code",
   "execution_count": null,
   "metadata": {
    "collapsed": false
   },
   "outputs": [],
   "source": [
    "# load models\n",
    "model = download_or_load_model_me_placeholder('iJO1366')\n",
    "model_heterologous = add_all_heterologous_pathways(model, copy=True)"
   ]
  },
  {
   "cell_type": "code",
   "execution_count": null,
   "metadata": {
    "collapsed": false
   },
   "outputs": [],
   "source": [
    "# load model and make c_sim_order\n",
    "all_sims = pd.read_pickle('../data/sims_table.pickle')\n",
    "# TODO move normalize_by_carbons to hindsight sims notebook\n",
    "all_sims['c_sim_order'] = all_sims.max_secretion.apply(normalize_by_carbons, model=model_heterologous)"
   ]
  },
  {
   "cell_type": "code",
   "execution_count": null,
   "metadata": {
    "collapsed": false
   },
   "outputs": [],
   "source": [
    "all_sims_no_wildtype = all_sims.loc[all_sims.index.map(lambda x: 'wildtype' not in x[0])]"
   ]
  },
  {
   "cell_type": "markdown",
   "metadata": {},
   "source": [
    "# Common functions"
   ]
  },
  {
   "cell_type": "code",
   "execution_count": null,
   "metadata": {
    "collapsed": true
   },
   "outputs": [],
   "source": [
    "def find_papers_with_gene(sims, gene, drop_duplicates=True):\n",
    "    if drop_duplicates:\n",
    "        return (all_sims[all_sims.deletions.str.contains(r'(^|[, ])%s($|,)' % gene)]\n",
    "                .reset_index()\n",
    "                .loc[:, ['paper', 'deletions']]\n",
    "                .drop_duplicates())\n",
    "    else:\n",
    "        return (all_sims[all_sims.deletions.str.contains(r'(^|[, ])%s($|,)' % gene)]\n",
    "                .reset_index()\n",
    "                .loc[:, ['paper', 'deletions', 'reaction_knockouts']])"
   ]
  },
  {
   "cell_type": "code",
   "execution_count": null,
   "metadata": {
    "collapsed": false
   },
   "outputs": [],
   "source": [
    "def filter_by_gene_deletions(sims):\n",
    "    \"\"\"Filter and sort\n",
    "    \n",
    "    Filter:\n",
    "    - sims with no deletions\n",
    "    - repeat sims for the same paper and target (take just the one with the most deletions)\n",
    "    \n",
    "    \"\"\"\n",
    "    genes = (sims\n",
    "             .xs('iJO1366', level=1)\n",
    "             .dropna(how='any', subset=['deletions', 'reaction_knockouts', 'native', 'target']))\n",
    "\n",
    "    # take out none's\n",
    "    genes.deletions = genes.deletions.apply(lambda x: '' if x=='none' else x)\n",
    "    \n",
    "    # for all designs in the same paper with the same target, take only the one with the highest gene count\n",
    "    genes_filtered = genes.reset_index()\n",
    "    genes_filtered.paper = genes_filtered.paper.apply(lambda x: re.sub(r'_[0-9]', '', x))\n",
    "    genes_filtered.deletions = (genes_filtered\n",
    "                                .deletions\n",
    "                                .apply(split_on_comma_or_space))\n",
    "    genes_filtered['gene_count'] = genes_filtered.deletions.apply(len)\n",
    "    genes_filtered = (genes_filtered\n",
    "                      .groupby(['paper', 'target'])\n",
    "                      .apply(lambda x: x.sort_values(by='gene_count', ascending=False).iloc[0, :]))\n",
    "    genes_filtered = (genes_filtered\n",
    "                      .reset_index(drop=True)\n",
    "                      .set_index('paper'))\n",
    "    \n",
    "    return genes_filtered"
   ]
  },
  {
   "cell_type": "markdown",
   "metadata": {},
   "source": [
    "# parent strains"
   ]
  },
  {
   "cell_type": "code",
   "execution_count": null,
   "metadata": {
    "collapsed": false,
    "scrolled": false
   },
   "outputs": [],
   "source": [
    "all_sims.xs('iJO1366', level='model').loc[:, 'parent'].value_counts()"
   ]
  },
  {
   "cell_type": "markdown",
   "metadata": {},
   "source": [
    "# Targets by year"
   ]
  },
  {
   "cell_type": "code",
   "execution_count": null,
   "metadata": {
    "collapsed": true
   },
   "outputs": [],
   "source": [
    "TargetByYear = namedtuple('TargetByYear', ['years',\n",
    "                                           'targets',\n",
    "                                           'color_indices',\n",
    "                                           'sizes',\n",
    "                                           'legend_sizes',\n",
    "                                           'year_labels',\n",
    "                                           'target_labels'])"
   ]
  },
  {
   "cell_type": "code",
   "execution_count": null,
   "metadata": {
    "collapsed": true
   },
   "outputs": [],
   "source": [
    "def range_min_max(l, step=1):\n",
    "   return range(*[(min(x), max(x)+1, step) for x in [l]][0])"
   ]
  },
  {
   "cell_type": "code",
   "execution_count": null,
   "metadata": {
    "collapsed": true
   },
   "outputs": [],
   "source": [
    "def target_by_year_size_scale(x): return x * 180 - 40"
   ]
  },
  {
   "cell_type": "code",
   "execution_count": null,
   "metadata": {
    "collapsed": true
   },
   "outputs": [],
   "source": [
    "def calculate_target_by_year(all_sims):\n",
    "    # get target and year\n",
    "    by_year = all_sims.xs('iJO1366', level='model').reset_index()[['target', 'year', 'citation_key']]\n",
    "    # ignore anything without a year (wildtype)\n",
    "    by_year = by_year[by_year.year > 1950]\n",
    "    # just grab the citations, not the designs\n",
    "    by_year['citation_key_p_target'] = by_year.citation_key + by_year.target\n",
    "    by_year = by_year.drop_duplicates(subset='citation_key_p_target')\n",
    "    counts = by_year.groupby('year')['target'].value_counts()\n",
    "    counts_ar = pd.DataFrame(counts).unstack(level=0).fillna(0)\n",
    "    counts_ar.columns = counts_ar.columns.droplevel(0)\n",
    "    counts_ar = counts_ar.sort_values(by=list(counts_ar.columns), ascending=False)\n",
    "                             \n",
    "    x_range = range_min_max(map(int, counts_ar.columns))\n",
    "    y_range = list(counts_ar.index)\n",
    "    x = []; y = []; s = []; c = []; actual_s = []\n",
    "    \n",
    "    for (year, target), count in counts.iteritems():\n",
    "        x.append(x_range.index(int(year)))\n",
    "        y.append(y_range.index(target))\n",
    "        s.append(target_by_year_size_scale(count))\n",
    "        actual_s.append(count)\n",
    "        c.append(y_range.index(target) % 2)\n",
    "    return TargetByYear(x, y, c, s, actual_s, x_range, y_range)"
   ]
  },
  {
   "cell_type": "code",
   "execution_count": null,
   "metadata": {
    "collapsed": true
   },
   "outputs": [],
   "source": [
    "def plot_targets_by_year(target_by_year_data, ax):\n",
    "    colors = sns.color_palette('Blues', 4)[-2:]\n",
    "    c = [colors[i] for i in target_by_year_data.color_indices]\n",
    "    \n",
    "    ax.scatter(target_by_year_data.years, target_by_year_data.targets, \n",
    "               s=target_by_year_data.sizes, c=c, linewidth=1)\n",
    "    \n",
    "    ax.set_xticks(range(len(target_by_year_data.year_labels)))\n",
    "    ax.set_xticklabels(target_by_year_data.year_labels, rotation=-60)\n",
    "    ax.set_xlim(-1, len(target_by_year_data.year_labels))\n",
    "    ax.set_xlabel('Year', labelpad=10, fontsize=17)\n",
    "    \n",
    "    ax.set_yticks(range(len(target_by_year_data.target_labels)))\n",
    "    ax.set_yticklabels(target_by_year_data.target_labels)\n",
    "    ax.set_ylim(-1, len(target_by_year_data.target_labels))\n",
    "    ax.set_ylabel('Target molecule', labelpad=10, fontsize=17)\n",
    "    \n",
    "    # color the labels\n",
    "    for i, t in enumerate(ax.yaxis.get_ticklabels()):\n",
    "        t.set_color(colors[i % 2])\n",
    "        \n",
    "    legend_facecolor = 'w'\n",
    "    size_range = sorted(set(target_by_year_data.legend_sizes))\n",
    "    lines = [plt.Line2D(range(1), range(1), markersize=math.sqrt(target_by_year_size_scale(x)) / 2.2, \n",
    "                        color=legend_facecolor, marker='o', markeredgecolor='k', \n",
    "                        markeredgewidth=1,\n",
    "                        markerfacecolor=colors[1], alpha=1.0) \n",
    "             for x in size_range]\n",
    "    legend = plt.legend(lines, size_range ,numpoints=1, loc='upper left', \n",
    "                        markerscale=2, title='Number of papers', frameon=True)\n",
    "    frame = legend.get_frame()\n",
    "    frame.set_facecolor(legend_facecolor)\n",
    "    frame.set_edgecolor('g')"
   ]
  },
  {
   "cell_type": "code",
   "execution_count": null,
   "metadata": {
    "collapsed": false
   },
   "outputs": [],
   "source": [
    "target_by_year_data = calculate_target_by_year(all_sims_no_wildtype)"
   ]
  },
  {
   "cell_type": "code",
   "execution_count": null,
   "metadata": {
    "collapsed": false
   },
   "outputs": [],
   "source": [
    "with sns.axes_style('darkgrid'):\n",
    "    fig, ax = plt.subplots(figsize=(14, 7.5))\n",
    "    plot_targets_by_year(target_by_year_data, ax)\n",
    "plt.savefig('/Users/zaking/lab/hindsight/figs/targets-by-year.pdf')"
   ]
  },
  {
   "cell_type": "markdown",
   "metadata": {},
   "source": [
    "# Number of deletions"
   ]
  },
  {
   "cell_type": "code",
   "execution_count": null,
   "metadata": {
    "collapsed": false
   },
   "outputs": [],
   "source": [
    "DeletionsByType = namedtuple('DeletionsByType', ['categories',\n",
    "                                                 'hist_dict',\n",
    "                                                 'bins_dict',\n",
    "                                                 'means_dict'])"
   ]
  },
  {
   "cell_type": "code",
   "execution_count": null,
   "metadata": {
    "collapsed": false
   },
   "outputs": [],
   "source": [
    "def calculate_deletions(sims, by='gene'):\n",
    "    if by not in ['gene', 'reaction']:\n",
    "        raise Exception('by should be \"gene\" or \"reaction\"')\n",
    "        \n",
    "    genes_filtered = filter_by_gene_deletions(sims)\n",
    "    \n",
    "    if by == 'gene':\n",
    "        genes_filtered['count'] = genes_filtered.deletions.apply(len)\n",
    "    elif by == 'reaction':\n",
    "        genes_filtered['count'] = genes_filtered.reaction_knockouts.apply(len)\n",
    "        \n",
    "    names = ['native', 'non-native']    \n",
    "\n",
    "    # get the maximum between all categories\n",
    "    c_max = 0\n",
    "    for i, name in enumerate(names):\n",
    "        count = genes_filtered[genes_filtered['native'] == (name == 'native')]['count']\n",
    "        c_max = max(c_max, count.max())\n",
    "        \n",
    "    hist_dict = {}; bins_dict = {}; mean_dict = {}\n",
    "    for i, name in enumerate(names):\n",
    "        count = genes_filtered[genes_filtered['native'] == (name == 'native')]['count']\n",
    "        \n",
    "        hist_dict[name], bins_dict[name] = np.histogram(count, bins=range(c_max+2))\n",
    "        mean_dict[name] = np.mean(count)\n",
    "        \n",
    "    return DeletionsByType(names, hist_dict, bins_dict, mean_dict)"
   ]
  },
  {
   "cell_type": "code",
   "execution_count": null,
   "metadata": {
    "collapsed": false
   },
   "outputs": [],
   "source": [
    "def plot_stacked_deletions(deletions_by_type, ax):\n",
    "    \"\"\"Make a stacked bar chart for a DeletionsByType object.\n",
    "    \n",
    "    \"\"\"\n",
    "    colors = sns.color_palette('muted', 2)\n",
    "    hist_max = max([sum(x) for x in zip(*deletions_by_type.hist_dict.values())])\n",
    "    \n",
    "    bars = []; bottom = None\n",
    "    for i, category in enumerate(deletions_by_type.categories):\n",
    "        bins = deletions_by_type.bins_dict[category]\n",
    "        hist = deletions_by_type.hist_dict[category]\n",
    "        \n",
    "        width = 0.7 * (bins[1] - bins[0])\n",
    "        center = [x for x in (bins[:-1] + bins[1:]) / 2]\n",
    "        \n",
    "        b = ax.bar(center, \n",
    "                   hist, \n",
    "                   align='center', \n",
    "                   width=width, \n",
    "                   color=colors[0] if i==0 else colors[1], \n",
    "                   label='%s (mean=%.1f)' % (category.capitalize(), \n",
    "                                             deletions_by_type.means_dict[category]),\n",
    "                   bottom=bottom)\n",
    "        \n",
    "        bars.append(b[0])\n",
    "        bottom = hist\n",
    "        \n",
    "    ax.set_xlim(-0.8, bins[-1] + 0.8)\n",
    "    ax.set_xticks(range(bins[-1]+1))\n",
    "    \n",
    "    ax.set_ylabel('Number of designs')\n",
    "    ax.set_ylim(0, hist_max + 1)\n",
    "    \n",
    "    ax.xaxis.set_ticks_position('none')\n",
    "    l = ax.legend()"
   ]
  },
  {
   "cell_type": "code",
   "execution_count": null,
   "metadata": {
    "collapsed": false
   },
   "outputs": [],
   "source": [
    "gene_deletions_by_type = calculate_deletions(all_sims_no_wildtype)"
   ]
  },
  {
   "cell_type": "code",
   "execution_count": null,
   "metadata": {
    "collapsed": false
   },
   "outputs": [],
   "source": [
    "reaction_deletions_by_type = calculate_deletions(all_sims_no_wildtype, by='reaction')"
   ]
  },
  {
   "cell_type": "code",
   "execution_count": null,
   "metadata": {
    "collapsed": false
   },
   "outputs": [],
   "source": [
    "fig, (ax1, ax2) = plt.subplots(nrows=2, figsize=(15.3, 8.5))\n",
    "fig.tight_layout()\n",
    "\n",
    "plot_stacked_deletions(gene_deletions_by_type, ax1)\n",
    "ax1.set_xlabel('Number of gene knockouts in design')\n",
    "new_max = 22\n",
    "ax1.set_xlim(-0.8, new_max + 0.8)\n",
    "ax1.set_xticks(range(new_max + 1))\n",
    "\n",
    "plot_stacked_deletions(reaction_deletions_by_type, ax2)\n",
    "ax2.set_xlabel('Number of reactions removed in design')\n",
    "new_max = 18\n",
    "ax1.set_ylim(0, new_max + 1)\n",
    "ax2.set_ylim(0, new_max + 1)\n",
    "ax1.set_yticks([x * 2 for x in range((new_max+2)/2)])\n",
    "ax2.set_yticks([x * 2 for x in range((new_max+2)/2)])\n",
    "\n",
    "plt.savefig(\"/Users/zaking/lab/hindsight/figs/gene-knockout-hist-by-type.pdf\")"
   ]
  },
  {
   "cell_type": "markdown",
   "metadata": {},
   "source": [
    "# Genes shared by targets"
   ]
  },
  {
   "cell_type": "code",
   "execution_count": null,
   "metadata": {
    "collapsed": true
   },
   "outputs": [],
   "source": [
    "GenesByTargets = namedtuple('GenesByTargets', ['value_array',\n",
    "                                               'gene_labels',\n",
    "                                               'target_labels'])"
   ]
  },
  {
   "cell_type": "code",
   "execution_count": null,
   "metadata": {
    "collapsed": false
   },
   "outputs": [],
   "source": [
    "def calculate_genes_by_targets(sims, order_list=None):\n",
    "    \"\"\"\n",
    "    Arguments\n",
    "    ---------\n",
    "    \n",
    "    sims: The simulation DataFrame.\n",
    "    \n",
    "    order_list: A list giving the gene order. If None, they will be sorted by number of hits.\n",
    "    \n",
    "    \"\"\"\n",
    "    genes_filtered = filter_by_gene_deletions(sims)\n",
    "    \n",
    "    # make a 2d array with genes by targets, and counts for values\n",
    "    \n",
    "    # count genes\n",
    "    genes_filtered['gene_count'] = genes_filtered.deletions.apply(len)\n",
    "    # set the index\n",
    "    genes_by_targets = genes_filtered.set_index(['target', 'aerobicity'], append=True)\n",
    "    # convert lists to rows\n",
    "    genes_by_targets = genes_by_targets.deletions.apply(pd.Series)\n",
    "    genes_by_targets.columns.name = 'remove'\n",
    "    # resetting the index seems to be a trick to make nested Series into a DataFrame:\n",
    "    genes_by_targets = genes_by_targets.stack().reset_index()\n",
    "    genes_by_targets = genes_by_targets.drop('remove', axis=1).rename(columns={0: 'gene'})\n",
    "                \n",
    "    # sort by first year of pub\n",
    "    first_year = all_sims.reset_index()[['target', 'year']].dropna()\n",
    "    first_year = (first_year\n",
    "                  .groupby('target')\n",
    "                  .apply(lambda x: x.sort_values(by='year', ascending=True).iloc[0, :]))\n",
    "    first_year.reset_index(drop=True).head()\n",
    "    genes_by_targets_counts_year = pd.DataFrame.merge(genes_by_targets, first_year, \n",
    "                                                      left_on='target', right_on='target', \n",
    "                                                      how='left')\n",
    "    gdf = genes_by_targets_counts_year.sort_values(by='year', ascending=False)\n",
    "    \n",
    "    if order_list:\n",
    "        # sort provided\n",
    "        genes = order_list\n",
    "    else:\n",
    "        # sort by the number of hits a gene has\n",
    "        count_by_gene = (genes_by_targets\n",
    "                     .groupby('gene')\n",
    "                     .paper\n",
    "                     .count()\n",
    "                     .reset_index()\n",
    "                     .rename(columns={'paper': 'gene_count'})\n",
    "                     .sort_values(by='gene_count', ascending=False))\n",
    "        genes = count_by_gene.gene.values\n",
    "    targets = list(gdf.target.unique())\n",
    "    targets.reverse()\n",
    "    ar = np.zeros([len(targets), len(genes)])\n",
    "    summed = np.zeros([1, len(genes)])\n",
    "    for i, row in gdf.iterrows():\n",
    "        for i, t in enumerate(targets):\n",
    "            for j, g in enumerate(genes):\n",
    "                if g==row.gene and t==row.target:\n",
    "                    ar[i,j] = ar[i,j] + 1\n",
    "                    summed[0,j] = summed[0,j] + 1\n",
    "    return GenesByTargets(ar, genes, targets)"
   ]
  },
  {
   "cell_type": "code",
   "execution_count": null,
   "metadata": {
    "collapsed": false
   },
   "outputs": [],
   "source": [
    "def plot_genes_by_target(genes_by_target, gene_color_indices=None, figsize=[26, 7]):\n",
    "    color_palette = sns.cubehelix_palette(9, start=1.1, gamma=1.0, rot=0.7, \n",
    "                                    hue=1.0, dark=0.2, light=0.9)\n",
    "    cmap = (mpl.colors.LinearSegmentedColormap.from_list('cubehelix', color_palette))\n",
    "    \n",
    "    # get the color bounds\n",
    "    m = int(genes_by_target.value_array.max())\n",
    "    bounds = range(0, m + 2)\n",
    "    norm = matplotlib.colors.BoundaryNorm(bounds, cmap.N)\n",
    "\n",
    "    # genes by targets plot where an x shows that a gene is used for a target\n",
    "    fig = plt.figure(figsize=figsize)\n",
    "    ax1 = plt.subplot2grid((16,1), (0, 0), rowspan=14)\n",
    "    ax2 = plt.subplot2grid((16,1), (15, 0))\n",
    "    p = ax1.pcolormesh(genes_by_target.value_array, cmap=cmap, norm=norm)\n",
    "    #fig.colorbar(p)\n",
    "    xticks = [x + 0.5 for x in range(len(genes_by_target.gene_labels)+1)]\n",
    "    ax1.xaxis.tick_top()\n",
    "    ax1.set_xticks(xticks)\n",
    "    yticks = [x+0.5 for x in range(len(genes_by_target.target_labels)+1)]\n",
    "    ax1.set_yticks(yticks)\n",
    "    ax1.set_ylim([0, len(genes_by_target.target_labels)])\n",
    "    ax1.set_xlim([0, len(genes_by_target.gene_labels)])\n",
    "    ax1.set_yticklabels([x.strip() for x in genes_by_target.target_labels])\n",
    "    ax1.set_xticklabels(list(genes_by_target.gene_labels), rotation=-90)\n",
    "    \n",
    "    # color gene labels\n",
    "    label_colors = sns.color_palette('Dark2', max(gene_color_indices.values()) + 1)\n",
    "    if gene_color_indices is not None:\n",
    "        for gene, t in zip(genes_by_target.gene_labels, ax1.xaxis.get_ticklabels()):\n",
    "            if gene in gene_color_indices:\n",
    "                t.set_color(label_colors[gene_color_indices[gene]])\n",
    "                \n",
    "    # add sums\n",
    "    for i, gene_vals in enumerate(genes_by_target.value_array.T):\n",
    "        ax1.text(i + 0.5, -0.8, \n",
    "                 '%d' % sum(gene_vals), # number of designs\n",
    "                 ha='center', color=color_palette[-2], fontsize=12)\n",
    "    for i, target_vals in enumerate(genes_by_target.value_array):\n",
    "        ax1.text(genes_by_target.value_array.shape[1] + 0.2, i + 0.3, \n",
    "                 '%d' % len([x for x in target_vals if x > 0]),  # number of unique genes\n",
    "                 ha='left', color=color_palette[-2], fontsize=12)\n",
    "\n",
    "    # If a ListedColormap is used, the length of the bounds array must be\n",
    "    # one greater than the length of the color list.  The bounds must be\n",
    "    # monotonically increasing.\n",
    "    cb2 = matplotlib.colorbar.ColorbarBase(ax2, cmap=cmap,\n",
    "                                           norm=norm,\n",
    "                                           boundaries=bounds,\n",
    "                                           ticks=[x+0.5 for x in bounds],\n",
    "                                           spacing='proportional',\n",
    "                                           orientation='horizontal')\n",
    "    ax2.set_xticklabels(bounds)\n",
    "    cb2.set_label('Number of designs')"
   ]
  },
  {
   "cell_type": "code",
   "execution_count": null,
   "metadata": {
    "collapsed": false
   },
   "outputs": [],
   "source": [
    "def get_go_database_cursor():\n",
    "    import MySQLdb\n",
    "    connection = MySQLdb.connect(host = 'mysql-amigo.ebi.ac.uk',\n",
    "                                 user = 'go_select',\n",
    "                                 passwd = 'amigo',\n",
    "                                 db = 'go_latest',\n",
    "                                 port = 4085)\n",
    "    return connection.cursor()"
   ]
  },
  {
   "cell_type": "code",
   "execution_count": null,
   "metadata": {
    "collapsed": false
   },
   "outputs": [],
   "source": [
    "def get_gene_categories():\n",
    "    \"\"\"Get go terms for all E. coli genes, but limit them to a certain \n",
    "    set of terms, defined below.\n",
    "    \n",
    "    \"\"\"\n",
    "    pickle_filename = '../data/saved_gene_categories.pickle'\n",
    "    try:\n",
    "        with open(pickle_filename, 'r') as f:\n",
    "            return pickle.load(f)\n",
    "    except IOError:\n",
    "        pass\n",
    "    out = {}\n",
    "    \n",
    "    # database\n",
    "    cursor = get_go_database_cursor()\n",
    "    \n",
    "    group_list = [\"regulation of gene expression\",\n",
    "                  \"metabolic process\"] \n",
    "#                  \"biological regulation\",\n",
    "#                  \"reproduction\", \"cell killing\", \"immune system process\", \n",
    "#                  \"cellular process\", \"biological adhesion\", \"signaling\", \"multicellular organismal process\", \n",
    "#                  \"developmental process\", \"growth\", \"locomotion\", \"single-organism process\", \n",
    "#                  \"response to stimulus\", \"localization\", \"multi-organism process\", \n",
    "#                  \"cellular component organization or biogenesis\"]\n",
    "    \n",
    "    query = \"\"\"\n",
    "    \n",
    "select gene_product.symbol, term1.name \n",
    "\n",
    "from gene_product \n",
    "\n",
    "inner join species on species.id=gene_product.species_id \n",
    "inner join association on association.gene_product_id=gene_product.id \n",
    "inner join term on term.id=association.term_id \n",
    "inner join graph_path on graph_path.term2_id=term.id inner join term as term1 on graph_path.term1_id=term1.id\n",
    "\n",
    "where gene_product.symbol!='' and term1.name in (%s) and genus='Escherichia' and species='coli'\n",
    "\n",
    "\"\"\" % ', '.join([\"'%s'\" % g for g in group_list])\n",
    "       \n",
    "    cursor.execute(query)\n",
    "    out = defaultdict(set)\n",
    "    for g, term in cursor.fetchall():\n",
    "        out[g].add(term)\n",
    "\n",
    "    with open(pickle_filename, 'w') as f:\n",
    "        pickle.dump(out, f)\n",
    "    return out"
   ]
  },
  {
   "cell_type": "code",
   "execution_count": null,
   "metadata": {
    "collapsed": true
   },
   "outputs": [],
   "source": [
    "def make_indices_for_categories(categories):\n",
    "    in_legend = ['regulation of gene expression', # order matters\n",
    "                 'metabolic process'] \n",
    "    indices = {}\n",
    "    for k, v in categories.iteritems():\n",
    "        try:\n",
    "            indices[k] = min([in_legend.index(x) for x in v if x in in_legend])\n",
    "        except ValueError: # empty array\n",
    "            pass\n",
    "    return indices"
   ]
  },
  {
   "cell_type": "markdown",
   "metadata": {},
   "source": [
    "### clustering"
   ]
  },
  {
   "cell_type": "code",
   "execution_count": null,
   "metadata": {
    "collapsed": true
   },
   "outputs": [],
   "source": [
    "genes_by_target = calculate_genes_by_targets(all_sims_no_wildtype)"
   ]
  },
  {
   "cell_type": "code",
   "execution_count": null,
   "metadata": {
    "collapsed": false
   },
   "outputs": [],
   "source": [
    "# get the deletions for each design\n",
    "deletions_df = filter_by_gene_deletions(all_sims_no_wildtype).loc[:,['deletions']]\n",
    "all_deletions = genes_by_target.gene_labels\n",
    "\n",
    "for deletion in all_deletions:\n",
    "    deletions_df.loc[:, deletion] = deletions_df.deletions.apply(lambda x: 1 if deletion in x else 0)\n",
    "array_df = deletions_df.drop('deletions', axis=1).T\n",
    "\n",
    "dist = pdist(array_df.values)\n",
    "# rows = observations (genes), columns = dimensions (designs)\n",
    "link = linkage(dist)\n",
    "\n",
    "fig, ax = plt.subplots(figsize=(20, 6))\n",
    "dend_out = dendrogram(link, labels=all_deletions, ax=ax, count_sort=True, color_threshold=10)\n",
    "_=ax.set_xticklabels([l.get_text() for l in ax.xaxis.get_ticklabels()], rotation=-90)\n",
    "\n",
    "dend_gene_label_order = dend_out['ivl']\n",
    "plt.savefig('/Users/zaking/lab/hindsight/figs/genes-by-targets-dendrogram.pdf')"
   ]
  },
  {
   "cell_type": "markdown",
   "metadata": {},
   "source": [
    "### heatmap"
   ]
  },
  {
   "cell_type": "code",
   "execution_count": null,
   "metadata": {
    "collapsed": false
   },
   "outputs": [],
   "source": [
    "genes_by_target_sorted = calculate_genes_by_targets(all_sims_no_wildtype, order_list=dend_gene_label_order)"
   ]
  },
  {
   "cell_type": "code",
   "execution_count": null,
   "metadata": {
    "collapsed": false
   },
   "outputs": [],
   "source": [
    "# rm ../data/saved_gene_categories.pickle"
   ]
  },
  {
   "cell_type": "code",
   "execution_count": null,
   "metadata": {
    "collapsed": false
   },
   "outputs": [],
   "source": [
    "gene_categories = get_gene_categories()\n",
    "# add some that are not in GO\n",
    "gene_categories['paaF'] = ['metabolic process'] # \\cite{Lim2013a}\n",
    "gene_categories['paaH'] = ['metabolic process']\n",
    "gene_categories['lptB'] = ['metabolic process'] # ?\n",
    "gene_categories['pps'] = ['metabolic process']\n",
    "gene_color_indices = make_indices_for_categories(gene_categories)"
   ]
  },
  {
   "cell_type": "code",
   "execution_count": null,
   "metadata": {
    "collapsed": false
   },
   "outputs": [],
   "source": [
    "def partition(pred, iterable):\n",
    "    'Use a predicate to partition entries into false entries and true entries. https://docs.python.org/3/library/itertools.html#itertools-recipes'\n",
    "    # partition(is_odd, range(10)) --> 0 2 4 6 8   and  1 3 5 7 9\n",
    "    t1, t2 = tee(iterable)\n",
    "    return filter(lambda x: ~pred(x), t1), filter(pred, t2)\n",
    "all_cat = {k: gene_categories[k] for k in dend_gene_label_order}\n",
    "met_cat = len([x for x in all_cat.itervalues() if 'regulation of gene expression' in x])\n",
    "reg_cat = len([x for x in all_cat.itervalues() if 'regulation of gene expression' not in x])\n",
    "print 'metabolic %d regulatory %d total %d' % (met_cat, reg_cat, len(all_cat))"
   ]
  },
  {
   "cell_type": "code",
   "execution_count": null,
   "metadata": {
    "collapsed": false,
    "scrolled": false
   },
   "outputs": [],
   "source": [
    "plot_genes_by_target(genes_by_target_sorted, gene_color_indices)\n",
    "plt.savefig('/Users/zaking/lab/hindsight/figs/genes-by-targets.pdf')"
   ]
  },
  {
   "cell_type": "markdown",
   "metadata": {},
   "source": [
    "# target Venn diagram"
   ]
  },
  {
   "cell_type": "code",
   "execution_count": null,
   "metadata": {
    "collapsed": false
   },
   "outputs": [],
   "source": [
    "sims_no_wt_ijo = all_sims_no_wildtype.xs('iJO1366', level='model')\n",
    "n_targets = set(sims_no_wt_ijo[sims_no_wt_ijo.loc[:, 'native']].target.unique())"
   ]
  },
  {
   "cell_type": "code",
   "execution_count": null,
   "metadata": {
    "collapsed": false
   },
   "outputs": [],
   "source": [
    "sims_no_wt_ijo = all_sims_no_wildtype.xs('iJO1366', level='model')\n",
    "nn_targets = set(sims_no_wt_ijo[sims_no_wt_ijo.loc[:, 'native'] == False].target.unique())\n",
    "nn_targets.discard('14BDO')\n",
    "nn_targets.add('1,4-Butanediol')\n",
    "nn_targets.discard('(R,R)-2,3-BDO')\n",
    "nn_targets.discard('meso-2,3-BDO')\n",
    "nn_targets.add('2,3-Butanediol*')\n",
    "nn_targets.discard('PHB')\n",
    "nn_targets.add('3-Hydroxybutyrate')"
   ]
  },
  {
   "cell_type": "code",
   "execution_count": null,
   "metadata": {
    "collapsed": true
   },
   "outputs": [],
   "source": [
    "feist_targets = set(['Ethanol', '2-Oxoglutarate', 'D-Lactate', 'Pyruvate', 'Succinate', 'Fumarate', 'Glycerol', 'L-Alanine'])"
   ]
  },
  {
   "cell_type": "code",
   "execution_count": null,
   "metadata": {
    "collapsed": true
   },
   "outputs": [],
   "source": [
    "campodonico_targets = set(['Isobutanol', '1-Butanol', 'Isopropanol', '1-Propanol', '3-Hydroxypropanoate', 'Acrilic acid', 'Acrylamide',\n",
    "                           '3-Hydroxybutyrate', '2-Keto-butanoic acid', '2-Keto-valeric acid*', '2-Keto-isovaleric acid*', '2,3-Butanediol*',\n",
    "                           '1,4-Butanediol', '1,3-Propanediol'])\n",
    "                           # * Number of g-coupled designs was <=2"
   ]
  },
  {
   "cell_type": "code",
   "execution_count": null,
   "metadata": {
    "collapsed": false
   },
   "outputs": [],
   "source": [
    "def make_subsets(set1, set2):\n",
    "    return [set1.difference(set2), set1.intersection(set2), set2.difference(set1)]\n",
    "subsets_n = make_subsets(feist_targets, n_targets)\n",
    "subsets_nn = make_subsets(campodonico_targets, nn_targets)"
   ]
  },
  {
   "cell_type": "code",
   "execution_count": null,
   "metadata": {
    "collapsed": false
   },
   "outputs": [],
   "source": [
    "def draw_labels(v, subsets, alpha=0.8, shift_fn=lambda i: 0.1 * (1 - i)):\n",
    "    for i, p in enumerate(['10', '11', '01']):\n",
    "        v.get_patch_by_id(p).set_alpha(0.7)\n",
    "        label = v.get_label_by_id(p)\n",
    "        label.set_text('\\n'.join(subsets[i]))\n",
    "        label.set_size(12)\n",
    "        label.set_linespacing(2)\n",
    "        label.set_color((0.2, 0.2, 0.2))\n",
    "        label.set_horizontalalignment(['right', 'center', 'left'][i])\n",
    "        label.set_position([sum(x) for x in zip(label.get_position(), (shift_fn(i), 0))])\n",
    "    return v"
   ]
  },
  {
   "cell_type": "code",
   "execution_count": null,
   "metadata": {
    "collapsed": false
   },
   "outputs": [],
   "source": [
    "figure, ax = plt.subplots(figsize=(7, 7))\n",
    "draw_labels(venn2([feist_targets, n_targets], \n",
    "                   set_labels=['(Feist 2010)', 'Strain database'],\n",
    "                   set_colors = sns.color_palette('muted', 2),\n",
    "                   ax=ax),\n",
    "            subsets_n)\n",
    "figure.savefig('/Users/zaking/lab/hindsight/figs/shared-targets-feist-2010.pdf')"
   ]
  },
  {
   "cell_type": "code",
   "execution_count": null,
   "metadata": {
    "collapsed": false
   },
   "outputs": [],
   "source": [
    "figure, ax = plt.subplots(figsize=(9, 9))\n",
    "draw_labels(venn2([campodonico_targets, nn_targets], \n",
    "                   set_labels=['(Campodonico 2015)', 'Literature database'],\n",
    "                   set_colors = sns.color_palette('muted', 2),\n",
    "                   ax=ax),\n",
    "            subsets_nn,\n",
    "            shift_fn=lambda i: 0.17 * (1.2 - i))\n",
    "figure.savefig('/Users/zaking/lab/hindsight/figs/shared-targets-campodonico-2015.pdf')"
   ]
  },
  {
   "cell_type": "markdown",
   "metadata": {},
   "source": [
    "# Lethal genotypes"
   ]
  },
  {
   "cell_type": "code",
   "execution_count": null,
   "metadata": {
    "collapsed": false
   },
   "outputs": [],
   "source": [
    "models = ['e_coli_core', 'iJR904', 'iAF1260', 'iAF1260b', 'iJO1366', 'ME']\n",
    "df = all_sims_no_wildtype.growth_rate.unstack('model')[models]\n",
    "# deal with nan's\n",
    "df[df.isnull()] = 0\n",
    "counts = df[df < min_biomass].count()"
   ]
  },
  {
   "cell_type": "code",
   "execution_count": null,
   "metadata": {
    "collapsed": false
   },
   "outputs": [],
   "source": [
    "model_gc = calculate_model_growth_coupled(all_sims_no_wildtype, models=models)\n",
    "model_not_gc = [model_gc.total - x for x in model_gc.counts]"
   ]
  },
  {
   "cell_type": "code",
   "execution_count": null,
   "metadata": {
    "collapsed": false
   },
   "outputs": [],
   "source": [
    "fig, ax = plt.subplots()\n",
    "#ax.bar([x+0.1 for x in range(len(counts))], counts)\n",
    "ax.plot([x + 0.5 for x in range(len(counts))], counts, '-', label='Lethal genotypes')\n",
    "ax.plot([x + 0.5 for x in range(len(counts))], model_not_gc, '--', label='Total failures')\n",
    "ax.set_xticklabels(models)\n",
    "ax.set_title('Designs that are lethal in silico (n = %d)' % len(df))\n",
    "ax.set_xlabel('Model')\n",
    "ax.set_ylabel('Number of designs')\n",
    "#ax.set_xlim(-0.5, len(models) - 0.5)\n",
    "ax.set_xticks([x+0.5 for x in range(len(models))])\n",
    "ax.set_ylim(top=len(df))\n",
    "ax.legend(loc='upper right')\n",
    "fig.savefig('/Users/zaking/lab/hindsight/figs/lethal-designs.pdf')"
   ]
  },
  {
   "cell_type": "markdown",
   "metadata": {},
   "source": [
    "# frd knockouts"
   ]
  },
  {
   "cell_type": "code",
   "execution_count": null,
   "metadata": {
    "collapsed": false
   },
   "outputs": [],
   "source": [
    "PieData = namedtuple('PieData', ['labels',\n",
    "                                 'amounts',\n",
    "                                 'title'])"
   ]
  },
  {
   "cell_type": "code",
   "execution_count": null,
   "metadata": {
    "collapsed": false
   },
   "outputs": [],
   "source": [
    "def calculate_gene_pie(sims, gene_contains):\n",
    "    filt = filter_by_gene_deletions(sims)\n",
    "    total = len(filt)\n",
    "    has = len(filt[filt.deletions.apply(lambda x: any([gene_contains in g for g in x]))])\n",
    "    percents = [float(x) / total for x in [has, total - has]]\n",
    "    return PieData(['%d%% of designs have %s knockouts' % (round(percents[0] * 100), gene_contains),\n",
    "                    '%d%%' % round(percents[1] * 100)],\n",
    "                   percents,\n",
    "                   'Fraction of designs')"
   ]
  },
  {
   "cell_type": "code",
   "execution_count": null,
   "metadata": {
    "collapsed": false
   },
   "outputs": [],
   "source": [
    "def plot_pie(pie_data, axis):\n",
    "    colors = sns.color_palette('muted', len(pie_data.amounts))\n",
    "    patches, texts = ax.pie(pie_data.amounts, labels=pie_data.labels,\n",
    "                            startangle=90, colors=colors)\n",
    "    axis.set_title(pie_data.title)"
   ]
  },
  {
   "cell_type": "code",
   "execution_count": null,
   "metadata": {
    "collapsed": false,
    "scrolled": true
   },
   "outputs": [],
   "source": [
    "frd_pie = calculate_gene_pie(all_sims_no_wildtype[all_sims_no_wildtype.aerobicity != 'aerobic'], 'frd')\n",
    "# make a square figure and axes\n",
    "fix, ax = plt.subplots(figsize=(4,4))\n",
    "plot_pie(frd_pie, ax)\n",
    "plt.savefig('/Users/zaking/lab/hindsight/figs/frd-pie.pdf')"
   ]
  },
  {
   "cell_type": "markdown",
   "metadata": {},
   "source": [
    "# Categorize"
   ]
  },
  {
   "cell_type": "code",
   "execution_count": null,
   "metadata": {
    "collapsed": false
   },
   "outputs": [],
   "source": [
    "growth_coupled_categories = calculate_model_growth_coupled_categories(all_sims_no_wildtype)"
   ]
  },
  {
   "cell_type": "code",
   "execution_count": null,
   "metadata": {
    "collapsed": false
   },
   "outputs": [],
   "source": [
    "plot_model_growth_coupled_categories(growth_coupled_categories, gc_line=True)\n",
    "# on the poster, also note the req'ment for greedy knockouts\n",
    "plt.savefig('/Users/zaking/lab/hindsight/figs/growth-coupled-categories.pdf')"
   ]
  },
  {
   "cell_type": "code",
   "execution_count": null,
   "metadata": {
    "collapsed": true
   },
   "outputs": [],
   "source": [
    "def percentages_for_category(cats, cat_substring):\n",
    "    cat = [x for x in cats.categories if cat_substring in x][0]\n",
    "    return growth_coupled_categories.count_arrays[growth_coupled_categories.categories.index(cat)] / growth_coupled_categories.total * 100"
   ]
  },
  {
   "cell_type": "code",
   "execution_count": null,
   "metadata": {
    "collapsed": false
   },
   "outputs": [],
   "source": [
    "percentages_for_category(growth_coupled_categories, 'coupled')"
   ]
  },
  {
   "cell_type": "code",
   "execution_count": null,
   "metadata": {
    "collapsed": false
   },
   "outputs": [],
   "source": [
    "percentages_for_category(growth_coupled_categories, 'lethal')"
   ]
  },
  {
   "cell_type": "markdown",
   "metadata": {},
   "source": [
    "## By target"
   ]
  },
  {
   "cell_type": "code",
   "execution_count": null,
   "metadata": {
    "collapsed": false,
    "scrolled": false
   },
   "outputs": [],
   "source": [
    "targets = all_sims_no_wildtype.reset_index().sort_values(by='year').target.unique()\n",
    "gc_category = [calculate_model_growth_coupled_categories(all_sims_no_wildtype, target=target, category_list=growth_coupled_categories.categories)\n",
    "               for target in targets]"
   ]
  },
  {
   "cell_type": "code",
   "execution_count": null,
   "metadata": {
    "collapsed": false
   },
   "outputs": [],
   "source": [
    "fig, axes = plt.subplots(5, 5, figsize=(15, 10))\n",
    "fig.tight_layout(pad=0.4, w_pad=2, h_pad=5.0)\n",
    "for gc, axis in izip_longest(gc_category, axes.flatten()):\n",
    "    if not gc:\n",
    "        axis.axis('off')\n",
    "        continue\n",
    "    plot_model_growth_coupled_categories(gc, axis=axis, show_legend=False, \n",
    "                                         y_lim_max_label=True)\n",
    "    axis.set_xlabel('')\n",
    "    axis.set_ylabel('')\n",
    "    # trick to move labels (http://stackoverflow.com/questions/16162514/how-can-i-move-a-tick-label-onlywithout-moving-corresponding-tick)\n",
    "    axis.set_xticklabels([])\n",
    "    axis.set_xticks([x + 0.1 for x in range(len(gc.models))], minor=True)\n",
    "    axis.set_xticklabels(rename_models(gc.models, year=False), rotation=-45, horizontalalignment='left', minor=True)\n",
    "    axis.get_yaxis().set_tick_params(which='both', direction='out', color=(0.7, 0.7, 0.7), \n",
    "                                     width=1, length=3)\n",
    "fig.savefig('/Users/zaking/lab/hindsight/figs/growth-coupled-categories-by-target.pdf')"
   ]
  },
  {
   "cell_type": "markdown",
   "metadata": {},
   "source": [
    "## With ALE"
   ]
  },
  {
   "cell_type": "code",
   "execution_count": null,
   "metadata": {
    "collapsed": false
   },
   "outputs": [],
   "source": [
    "with_ale = all_sims_no_wildtype[all_sims_no_wildtype.evolved != 'no']\n",
    "growth_coupled_categories_ale = calculate_model_growth_coupled_categories(with_ale)"
   ]
  },
  {
   "cell_type": "code",
   "execution_count": null,
   "metadata": {
    "collapsed": false
   },
   "outputs": [],
   "source": [
    "ax = plot_model_growth_coupled_categories(growth_coupled_categories_ale, gc_line=True)\n",
    "ax.set_yticks([0, 5, 10, 15, growth_coupled_categories_ale.total])\n",
    "plt.savefig('/Users/zaking/lab/hindsight/figs/growth-coupled-categories-ale.pdf')"
   ]
  },
  {
   "cell_type": "code",
   "execution_count": null,
   "metadata": {
    "collapsed": true
   },
   "outputs": [],
   "source": [
    "targets_ale = with_ale.reset_index().sort_values(by='year').target.unique()\n",
    "gc_category_ale = [calculate_model_growth_coupled_categories(with_ale, target=target, category_list=growth_coupled_categories.categories)\n",
    "               for target in targets_ale]"
   ]
  },
  {
   "cell_type": "code",
   "execution_count": null,
   "metadata": {
    "collapsed": false
   },
   "outputs": [],
   "source": [
    "fig, axes = plt.subplots(6, 4, figsize=(12, 11))\n",
    "fig.tight_layout(pad=0.4, w_pad=2, h_pad=4.0)\n",
    "for gc, axis in izip_longest(gc_category_ale, axes.flatten()):\n",
    "    if not gc:\n",
    "        axis.axis('off')\n",
    "        continue\n",
    "    plot_model_growth_coupled_categories(gc, axis=axis, show_legend=False, \n",
    "                                         y_lim_max_label=True)\n",
    "    axis.set_xlabel('')\n",
    "    axis.set_ylabel('')\n",
    "    # trick to move labels (http://stackoverflow.com/questions/16162514/how-can-i-move-a-tick-label-onlywithout-moving-corresponding-tick)\n",
    "    axis.set_xticklabels([])\n",
    "    axis.set_xticks([x + 0.2 for x in range(len(gc.models))], minor=True)\n",
    "    axis.set_xticklabels(rename_models(gc.models, year=False), rotation=-35, horizontalalignment='left', minor=True)\n",
    "    axis.get_yaxis().set_tick_params(which='both', direction='out', color=(0.7, 0.7, 0.7), \n",
    "                                     width=1, length=3)\n",
    "fig.savefig('/Users/zaking/lab/hindsight/figs/growth-coupled-categories-by-target-ale-9-4-15-microaerobic.pdf')"
   ]
  },
  {
   "cell_type": "markdown",
   "metadata": {},
   "source": [
    "# Model size"
   ]
  },
  {
   "cell_type": "code",
   "execution_count": null,
   "metadata": {
    "collapsed": false
   },
   "outputs": [],
   "source": [
    "size = [('E. coli core', (137, 95, 72)),\n",
    "        ('iJR904', (904, 1075, 761)),\n",
    "        ('iAF1260', (1260, 2382, 1668)),\n",
    "        ('iAF1260b', (1260, 2388, 1668)),\n",
    "        ('iJO1366', (1366, 2583, 1805)),\n",
    "        ('ME', (1650, 76414, 56902))]\n",
    "labels = ['genes', 'metabolites/components', 'reactions']\n",
    "markers = ['o', 'D', 'x']\n",
    "figsize = (7, 5)\n",
    "fig, (ax1,ax2) = plt.subplots(2,1,sharex=True, figsize=figsize)\n",
    "fig.tight_layout(pad=0, w_pad=0, h_pad=0)\n",
    "for j, ax in enumerate((ax1, ax2)):\n",
    "    f = ax.plot if j == 1 else ax.semilogy\n",
    "    for i in range(len(size[0][1])):\n",
    "        f(range(len(size)), [x[1][i] for x in size],\n",
    "                label=labels[i], marker=markers[i], fillstyle='none',\n",
    "                linewidth=3, markeredgewidth=2, ms=7)\n",
    "    ax.set_xlim([-0.3, len(size)-1+0.3])\n",
    "    \n",
    "ax1.set_ylabel('Number of components')\n",
    "ax1.yaxis.set_label_coords(-0.15, -0.2)\n",
    "ax1.legend(loc='upper left')\n",
    "ax1.set_ylim([3200, 100000])\n",
    "ax1.yaxis.labelpad = 15\n",
    "ax2.set_ylim([0, 3200])\n",
    "ax2.set_xticklabels([0] + [x[0] for x in size])\n",
    "ax2.set_xlabel('Model')\n",
    "ax2.xaxis.labelpad = 15\n",
    "\n",
    "# hide the spines between ax and ax2\n",
    "ax1.spines['bottom'].set_visible(False)\n",
    "ax2.spines['top'].set_visible(False)\n",
    "ax1.xaxis.tick_top()\n",
    "ax1.tick_params(labeltop='off') # don't put tick labels at the top\n",
    "ax2.xaxis.tick_bottom()\n",
    "ax1.set_title('Model size', y=1.08)\n",
    "\n",
    "d = .015 # how big to make the diagonal lines in axes coordinates\n",
    "# arguments to pass plot, just so we don't keep repeating them\n",
    "kwargs = dict(transform=ax1.transAxes, color='k', clip_on=False)\n",
    "ax1.plot((-d,+d),(-d,+d), **kwargs)      # top-left diagonal\n",
    "ax1.plot((1-d,1+d),(-d,+d), **kwargs)    # top-right diagonal\n",
    "\n",
    "kwargs.update(transform=ax2.transAxes)  # switch to the bottom axes\n",
    "ax2.plot((-d,+d),(1-d,1+d), **kwargs)   # bottom-left diagonal\n",
    "ax2.plot((1-d,1+d),(1-d,1+d), **kwargs) # bottom-right diagonal\n",
    "plt.savefig('/Users/zaking/lab/hindsight/figs/model-size.pdf')"
   ]
  },
  {
   "cell_type": "code",
   "execution_count": null,
   "metadata": {
    "collapsed": true
   },
   "outputs": [],
   "source": [
    "# Distribution of target secretion yield\n",
    "\n",
    "# order_df = all_sims_no_wildtype.xs('iJO1366', level='model').loc[:, ['target_exchange', 'c_byproduct_order']]\n",
    "\n",
    "# len(order_df)\n",
    "\n",
    "# has_data = order_df[~(order_df.c_byproduct_order == '-') & ~(order_df.c_byproduct_order == 'nd')]\n",
    "\n",
    "# len(has_data)\n",
    "\n",
    "# target_in = has_data[has_data.apply(lambda x: x.target_exchange in [x[0] for x in x.c_byproduct_order], axis=1)]\n",
    "\n",
    "# len(target_in)\n",
    "\n",
    "# target_not_in = has_data[~has_data.apply(lambda x: x.target_exchange in [z[0] for z in x.c_byproduct_order], axis=1)]\n",
    "# target_not_in\n",
    "\n",
    "# target_in_vals = target_in.apply(lambda x: [z[1] for z in x.c_byproduct_order if z[0] == x.target_exchange][0], axis=1)\n",
    "# target_in_rank = target_in.apply(lambda x: [z[0] for z in x.c_byproduct_order].index(x.target_exchange) + 1, axis=1)\n",
    "\n",
    "# fig, (ax1, ax2) = plt.subplots(ncols=2, figsize=(10, 4))\n",
    "# fig.tight_layout(w_pad=2)\n",
    "# target_in_vals.hist(bins=30, ax=ax1)\n",
    "# ax1.set_xlabel('Carbon yield of measured products')\n",
    "# ax1.set_ylabel('Number of designs')\n",
    "# height, left = np.histogram(target_in_rank, bins=[0.5, 1.5, 2.5, 3.5, 4.5])\n",
    "# ax2.bar(left[:-1], height, width=1)\n",
    "# ax2.set_xlabel('Secretion order rank')\n",
    "# ax2.set_xlim([0.5, 4.5])\n",
    "# _=ax2.set_xticks([x+1 for x in range(4)])\n",
    "# plt.savefig('/Users/zaking/lab/hindsight/figs/target-in-secretion-order.pdf')\n",
    "\n",
    "# float(len(target_in_vals[target_in_vals > 0.5])) / len(target_in_vals), len(target_in_vals[target_in_vals > 0.5]), len(target_in_vals)\n",
    "\n",
    "# len(target_in_rank[target_in_rank == 1]), len(target_in_rank)"
   ]
  },
  {
   "cell_type": "code",
   "execution_count": null,
   "metadata": {
    "collapsed": false
   },
   "outputs": [],
   "source": [
    "# native = all_sims_no_wildtype[all_sims_no_wildtype.loc[:, 'native'].fillna(method='pad') == True]\n",
    "# nonnative = all_sims_no_wildtype[~all_sims_no_wildtype.loc[:, 'native'].fillna(method='pad') == False]\n",
    "\n",
    "## All\n",
    "\n",
    "# gc_native = calculate_model_growth_coupled(native)\n",
    "# gc_nonnative = calculate_model_growth_coupled(nonnative)\n",
    "\n",
    "# gc_native = calculate_model_growth_coupled(native)\n",
    "# gc_nonnative = calculate_model_growth_coupled(nonnative)\n",
    "\n",
    "# fig, ax = plt.subplots(figsize=(7.5, 4))\n",
    "# fig.tight_layout()\n",
    "# plot_model_growth_coupled(gc_native, gc_nonnative, y_tick_step=10, axis=ax, \n",
    "#                           labels=['Native metabolite', 'Nonnative metabolite'])\n",
    "# ax.set_xlabel('Model', labelpad=15)\n",
    "# ax.set_ylabel('Number of designs', labelpad=15)\n",
    "# ax.legend(loc='upper left')\n",
    "# plt.savefig('/Users/zaking/lab/hindsight/figs/growth-coupled-designs.pdf')\n",
    "\n",
    "# growth_coupled_gradient = calculate_model_growth_coupled_gradient(all_sims_no_wildtype)\n",
    "\n",
    "# with sns.axes_style('ticks'):\n",
    "#     fig, ax = plt.subplots(figsize=(7.5, 4))\n",
    "#     sns.despine()\n",
    "# fig.tight_layout()\n",
    "# plot_model_growth_coupled_gradient(growth_coupled_gradient, y_tick_step=10, axis=ax)\n",
    "# ax.set_xlabel('Model', labelpad=15)\n",
    "# ax.set_ylabel('Number of designs', labelpad=15)\n",
    "# ax.legend(loc='upper left')\n",
    "# #plt.savefig('/Users/zaking/lab/hindsight/figs/growth-coupled-designs-gradient.pdf')\n",
    "\n",
    "# plot_model_growth_coupled_gradient_colorbar()\n",
    "\n",
    "# ## By target\n",
    "\n",
    "# targets = all_sims_no_wildtype.reset_index().sort_values(by='year').target.unique()\n",
    "# gc_by_target_n = [calculate_model_growth_coupled(native, target=target)\n",
    "#                   for target in targets]\n",
    "# gc_by_target_nn = [calculate_model_growth_coupled(nonnative, target=target)\n",
    "#                    for target in targets]\n",
    "\n",
    "# fig, axes = plt.subplots(4, 6, figsize=(18, 8))\n",
    "# fig.tight_layout(pad=0.4, w_pad=2, h_pad=4.0)\n",
    "# for gc, gc2, axis in zip(gc_by_target_n, gc_by_target_nn, axes.flatten()):\n",
    "#     total = gc.total + gc2.total\n",
    "#     plot_model_growth_coupled(gc, gc2, axis=axis,\n",
    "#                               y_tick_step=(1 if total <= 5 else (2 if total <= 10 else 5)))\n",
    "#     axis.set_xlabel('')\n",
    "#     axis.set_ylabel('')\n",
    "#     # trick to move labels (http://stackoverflow.com/questions/16162514/how-can-i-move-a-tick-label-onlywithout-moving-corresponding-tick)\n",
    "#     axis.set_xticklabels([])\n",
    "#     axis.set_xticks([x + 0.2 for x in range(len(gc.models))], minor=True)\n",
    "#     axis.set_xticklabels(gc.models, rotation=-35, horizontalalignment='left', minor=True)\n",
    "# fig.savefig('/Users/zaking/lab/hindsight/figs/growth-coupled-designs-by-target.pdf')\n",
    "\n",
    "### Gradient with min yield (Broken)\n",
    "\n",
    "# targets = all_sims_no_wildtype.reset_index().sort_values(by='year').target.unique()\n",
    "# gc_gradient_by_target = [calculate_model_growth_coupled_gradient(all_sims_no_wildtype, target)\n",
    "#                          for target in targets]\n",
    "\n",
    "# with sns.axes_style('ticks'):\n",
    "#     fig, axes = plt.subplots(4, 6, figsize=(18, 8))\n",
    "#     #sns.despine()\n",
    "# fig.tight_layout(pad=0.4, w_pad=2, h_pad=4.0)\n",
    "# for i, (gc, axis) in enumerate(izip_longest(gc_gradient_by_target, axes.flatten())):\n",
    "#     if i == len(gc_gradient_by_target):\n",
    "#         #plot_model_growth_coupled_gradient_colorbar(axis)\n",
    "#         break\n",
    "#     total = gc.total\n",
    "#     plot_model_growth_coupled_gradient(gc, axis=axis, y_tick_step=(1 if total <= 5 else (2 if total <= 10 else 5)))\n",
    "#     axis.set_xlabel('')\n",
    "#     axis.set_ylabel('')\n",
    "#     # trick to move labels (http://stackoverflow.com/questions/16162514/how-can-i-move-a-tick-label-onlywithout-moving-corresponding-tick)\n",
    "#     axis.set_xticklabels([])\n",
    "#     axis.set_xticks([x + 0.2 for x in range(len(gc.models))], minor=True)\n",
    "#     axis.set_xticklabels(gc.models, rotation=-35, horizontalalignment='left', minor=True)\n",
    "#     axis.tick_params(axis='x', which='minor', width=0)\n",
    "#     axis.tick_params(axis='x', which='major', top='off')\n",
    "\n",
    "# plot_model_growth_coupled_gradient_colorbar()\n",
    "\n",
    "### With max yield\n",
    "\n",
    "# targets = all_sims_no_wildtype.reset_index().sort_values(by='year').target.unique()\n",
    "# gc_gradient_by_target_max = [calculate_model_growth_coupled_gradient(all_sims_no_wildtype, target, use_max_yield=True)\n",
    "#                              for target in targets]\n",
    "\n",
    "# with sns.axes_style('ticks'):\n",
    "#     fig, axes = plt.subplots(8, 6, figsize=(18, 16))\n",
    "#     #sns.despine()\n",
    "# fig.tight_layout(pad=0.4, w_pad=2, h_pad=4.0)\n",
    "# for gc, axis in izip(list(chain.from_iterable(izip(gc_gradient_by_target, gc_gradient_by_target_max))), axes.flatten()):\n",
    "#     total = gc.total\n",
    "#     plot_model_growth_coupled_gradient(gc, axis=axis, y_tick_step=(1 if total <= 5 else (2 if total <= 10 else 5)))\n",
    "#     axis.set_xlabel('')\n",
    "#     axis.set_ylabel('')\n",
    "#     # trick to move labels (http://stackoverflow.com/questions/16162514/how-can-i-move-a-tick-label-onlywithout-moving-corresponding-tick)\n",
    "#     axis.set_xticklabels([])\n",
    "#     axis.set_xticks([x + 0.2 for x in range(len(gc.models))], minor=True)\n",
    "#     axis.set_xticklabels(gc.models, rotation=-35, horizontalalignment='left', minor=True)\n",
    "#     axis.tick_params(axis='x', which='minor', width=0)\n",
    "#     axis.tick_params(axis='x', which='major', top='off')\n",
    "\n",
    "## By aerobicity (Broken)\n",
    "\n",
    "# gc_aer_n = [calculate_model_growth_coupled(native[native.Aerobicity != 'aerobic'], target='all'),\n",
    "#             calculate_model_growth_coupled(native[native.Aerobicity == 'aerobic'], target='all')]\n",
    "# gc_aer_nn = [calculate_model_growth_coupled(nonnative[nonnative.Aerobicity != 'aerobic'], target='all'),\n",
    "#              calculate_model_growth_coupled(nonnative[nonnative.Aerobicity == 'aerobic'], target='all')]\n",
    "# labels_aer = ['Anaerobic/microaerobic', 'Aerobic']\n",
    "\n",
    "# fig, axes = plt.subplots(1, 2, figsize=(7, 2))\n",
    "# fig.tight_layout(pad=0.4, w_pad=2.5, h_pad=4.0)\n",
    "# for i, (gc, gc2, axis) in enumerate(zip(gc_aer_n, gc_aer_nn, axes.flatten())):\n",
    "#     total = gc.total + gc2.total\n",
    "#     plot_model_growth_coupled(gc, gc2, axis=axis,\n",
    "#                               y_tick_step=(1 if total <= 3 else 20))\n",
    "#     axis.set_xlabel('')\n",
    "#     axis.set_ylabel('')\n",
    "#     # trick to move labels (http://stackoverflow.com/questions/16162514/how-can-i-move-a-tick-label-onlywithout-moving-corresponding-tick)\n",
    "#     axis.set_xticklabels([])\n",
    "#     axis.set_xticks([x + 0.2 for x in range(len(gc.models))], minor=True)\n",
    "#     axis.set_xticklabels(gc.models, rotation=-35, horizontalalignment='left', minor=True)\n",
    "#     axis.set_title(labels_aer[i] + ' (n={})'.format(total), y=1.08)\n",
    "# fig.savefig('/Users/zaking/lab/hindsight/figs/growth-coupled-designs-by-aerobicity.pdf')\n",
    "\n",
    "## By additions\n",
    "\n",
    "# gc_add_n = [calculate_model_growth_coupled(native[native.Additions == 'none'], target='all'),\n",
    "#             calculate_model_growth_coupled(native[native.Additions != 'none'], target='all')]\n",
    "# gc_add_nn = [calculate_model_growth_coupled(nonnative[nonnative.Additions == 'none'], target='all'),\n",
    "#              calculate_model_growth_coupled(nonnative[nonnative.Additions != 'none'], target='all')]\n",
    "# labels_add = ['Native pathway', 'Heterologous pathway']\n",
    "\n",
    "# fig, axes = plt.subplots(1, 2, figsize=(7, 2))\n",
    "# fig.tight_layout(pad=0.4, w_pad=2, h_pad=4.0)\n",
    "# for i, (gc, gc2, axis) in enumerate(zip(gc_add_n, gc_add_nn, axes.flatten())):\n",
    "#     total = gc.total + gc2.total\n",
    "#     plot_model_growth_coupled(gc, gc2, axis=axis,\n",
    "#                               y_tick_step=10)\n",
    "#     axis.set_xlabel('')\n",
    "#     axis.set_ylabel('')\n",
    "#     # trick to move labels (http://stackoverflow.com/questions/16162514/how-can-i-move-a-tick-label-onlywithout-moving-corresponding-tick)\n",
    "#     axis.set_xticklabels([])\n",
    "#     axis.set_xticks([x + 0.2 for x in range(len(gc.models))], minor=True)\n",
    "#     axis.set_xticklabels(gc.models, rotation=-35, horizontalalignment='left', minor=True)\n",
    "#     axis.set_title(labels_add[i] + ' (n={})'.format(total), y=1.08)\n",
    "# fig.savefig('/Users/zaking/lab/hindsight/figs/growth-coupled-designs-by-additions.pdf')"
   ]
  },
  {
   "cell_type": "code",
   "execution_count": null,
   "metadata": {
    "collapsed": true
   },
   "outputs": [],
   "source": [
    "# Lethal phenotypes tables (Broken)\n",
    "\n",
    "# res, ne = find_summary_lethal_reactions(all_sims_no_wildtype)\n",
    "\n",
    "# print 'warnings', ne\n",
    "\n",
    "# with open('false-neg-res.pickle', 'w') as f:\n",
    "#     pickle.dump(res, f)\n",
    "\n",
    "# with open('false-neg-res.pickle', 'r') as f:\n",
    "#     res = pickle.load(f)\n",
    "\n",
    "# false_neg_counts = (res\n",
    "#  .reset_index()\n",
    "#  # example_genotype is an arbitrary column to count\n",
    "#  .loc[:, ['model', 'reactions', 'example_genotype']]\n",
    "#  # count by model/reactions pair\n",
    "#  .groupby(['model', 'reactions'])\n",
    "#  .count()\n",
    "#  # get rid of arbitrary label\n",
    "#  .rename(columns=lambda x: 'count')\n",
    "#  # sort by count for each model\n",
    "#  .reset_index()\n",
    "#  .sort_values(by=['model', 'count', 'reactions'], inplace=False, ascending=False)\n",
    "#  # get examples of lethal genotypes\n",
    "#  .merge(res.reset_index(), on=['model', 'reactions'], how='left')\n",
    "#  # don't care about growth rate\n",
    "#  .drop('growth_rate', axis=1)\n",
    "#  # only get one example for each false negative in a model\n",
    "#  .drop_duplicates(['model', 'reactions']))\n",
    "\n",
    "# false_neg_summary = false_neg_counts.groupby('model').count()\n",
    "# false_neg_summary\n",
    "\n",
    "# fig, axs = plt.subplots(1, 5, figsize=(20,4))\n",
    "# g = false_neg_counts.loc[:, ['reactions', 'count', 'model']].groupby('model', sort=False)\n",
    "# all_axs = axs.flatten()\n",
    "# model_order = ['E. coli core', 'iJR904', 'iAF1260', 'iAF1260b', 'iJO1366']\n",
    "# for i, gs in enumerate(g):\n",
    "#     model = gs[0]\n",
    "#     ind = model_order.index(model)\n",
    "#     ax = all_axs[ind]\n",
    "#     ax.bar(range(len(gs[1])), map(int, gs[1]['count']))\n",
    "#     ax.set_title(model)\n",
    "#     if ind == 0:\n",
    "#         ax.set_ylabel('Number of designs with false negative')\n",
    "#     ax.set_xticks([x+0.5 for x in range(len(gs[1]))])\n",
    "#     ax.set_xticklabels([','.join(x) for x in gs[1]['reactions']], rotation=-45, fontsize=10, ha='left')\n",
    "#     ax.set_ylim(top=50)\n",
    "# fig.savefig('/Users/zaking/Dropbox (Personal)/lab/hindsight/figs/false-negatives-summary.pdf')"
   ]
  }
 ],
 "metadata": {
  "kernelspec": {
   "display_name": "Python 2",
   "language": "python",
   "name": "python2"
  },
  "language_info": {
   "codemirror_mode": {
    "name": "ipython",
    "version": 2
   },
   "file_extension": ".py",
   "mimetype": "text/x-python",
   "name": "python",
   "nbconvert_exporter": "python",
   "pygments_lexer": "ipython2",
   "version": "2.7.11"
  }
 },
 "nbformat": 4,
 "nbformat_minor": 0
}
